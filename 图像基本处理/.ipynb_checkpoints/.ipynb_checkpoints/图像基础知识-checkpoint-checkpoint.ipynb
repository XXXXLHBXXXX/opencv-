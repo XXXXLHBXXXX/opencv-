{
 "cells": [
  {
   "cell_type": "markdown",
   "metadata": {},
   "source": [
    "1.读入图像"
   ]
  },
  {
   "cell_type": "code",
   "execution_count": null,
   "metadata": {
    "pycharm": {
     "is_executing": true
    }
   },
   "outputs": [],
   "source": [
    "#导入opencv的python版本依赖库cv2\n",
    "import cv2\n",
    "\n",
    "#使用opencv中imread函数读取图片，\n",
    "#0代表灰度图形式打开，1代表彩色形式打开\n",
    "img = cv2.imread('split.jpg',1)\n",
    "print(img.shape)\n",
    "#print(img)"
   ]
  },
  {
   "cell_type": "markdown",
   "metadata": {},
   "source": [
    "2.显示图像及保存图像"
   ]
  },
  {
   "cell_type": "code",
   "execution_count": null,
   "metadata": {
    "collapsed": true,
    "pycharm": {
     "is_executing": true
    }
   },
   "outputs": [],
   "source": [
    "#导入opencv依赖库\n",
    "import cv2\n",
    "\n",
    "#读取图像，读取方式为彩色读取\n",
    "img = cv2.imread('split.jpg',1)\n",
    "#\n",
    "cv2.imshow('photo',img)\n",
    "k = cv2.waitKey(0)\n",
    "if k == 27:   # 输入ESC键退出\n",
    "    cv2.destroyAllWindows()\n",
    "elif k == ord('s'): # 输入S键保存图片并退出\n",
    "    cv2.imwrite('split_.jpg',img)\n",
    "cv2.destroyAllWindows()\n"
   ]
  },
  {
   "cell_type": "code",
   "execution_count": null,
   "metadata": {
    "pycharm": {
     "is_executing": true
    }
   },
   "outputs": [],
   "source": [
    "#加载第三方包\n",
    "import cv2\n",
    "from matplotlib import pyplot as plt\n",
    "\n",
    "#使用Matplotlib导入图像\n",
    "img = cv2.imread('test_image.png',0)\n",
    "plt.imshow(img, cmap = 'gray', interpolation = 'bicubic')\n",
    "\n",
    "#隐藏X、Y轴上的刻度\n",
    "#plt.xticks([]), plt.yticks([])\n",
    "plt.show()\n"
   ]
  },
  {
   "cell_type": "markdown",
   "metadata": {},
   "source": [
    "# 代码3：通道转化，三通道转为单通道灰度图"
   ]
  },
  {
   "cell_type": "code",
   "execution_count": null,
   "metadata": {
    "pycharm": {
     "is_executing": true
    }
   },
   "outputs": [],
   "source": [
    "#导入opencv\n",
    "import cv2 \n",
    "#读入原始图像，使用cv2.IMREAD_UNCHANGED\n",
    "img = cv2.imread(\"girl.jpg\",cv2.IMREAD_UNCHANGED)\n",
    "#查看打印图像的shape\n",
    "shape = img.shape\n",
    "print(shape)\n",
    "#判断通道数是否为3通道或4通道\n",
    "if shape[2] == 3 or shape[2] == 4 :\n",
    "    #将彩色图转化为单通道图\n",
    "    img_gray = cv2.cvtColor(img,cv2.COLOR_BGR2GRAY)\n",
    "    cv2.imshow(\"gray_image\",img_gray)\n",
    "cv2.imshow(\"image\", img)\n",
    "cv2.waitKey(1000)\n",
    "cv2.destroyAllWindows()"
   ]
  },
  {
   "cell_type": "markdown",
   "metadata": {},
   "source": [
    "# 代码4：通道转化，单通道转为三通道灰度图"
   ]
  },
  {
   "cell_type": "code",
   "execution_count": null,
   "metadata": {
    "pycharm": {
     "is_executing": true
    }
   },
   "outputs": [],
   "source": [
    "#导入opencv\n",
    "import cv2 \n",
    "#读入灰度图\n",
    "img = cv2.imread(\"girl_gray.jpg\",cv2.IMREAD_UNCHANGED)\n",
    "#查看打印图像的shape\n",
    "shape = img.shape\n",
    "print(shape)\n",
    "img_color = cv2.cvtColor(img,cv2.COLOR_GRAY2BGR)\n",
    "print(img_color.shape)\n",
    "cv2.imshow(\"color_image\",img_color)\n",
    "cv2.imshow(\"image\", img)\n",
    "cv2.waitKey(0)\n",
    "cv2.destroyAllWindows()"
   ]
  },
  {
   "cell_type": "markdown",
   "metadata": {},
   "source": [
    "# 代码5：图像三通道分离"
   ]
  },
  {
   "cell_type": "markdown",
   "metadata": {},
   "source": [
    "下面的程序将使用opencv加载一张彩色图，然后将其R、G、B三通道分离并显示。"
   ]
  },
  {
   "cell_type": "code",
   "execution_count": null,
   "metadata": {
    "collapsed": true,
    "pycharm": {
     "is_executing": true
    }
   },
   "outputs": [],
   "source": [
    "#加载opencv\n",
    "import cv2\n",
    "src=cv2.imread('split.jpg')\n",
    "cv2.imshow('before',src)\n",
    "#调用通道分离\n",
    "b,g,r=cv2.split(src)\n",
    "#三通道分别显示\n",
    "cv2.imshow('blue',b)\n",
    "cv2.imshow('green',g)\n",
    "cv2.imshow('red',r)\n",
    "cv2.waitKey(0)\n",
    "cv2.destroyAllWindows()"
   ]
  },
  {
   "cell_type": "code",
   "execution_count": null,
   "metadata": {
    "collapsed": true,
    "pycharm": {
     "is_executing": true
    }
   },
   "outputs": [],
   "source": [
    "#导入opencv模块\n",
    "import numpy as np\n",
    "import cv2            \n",
    " \n",
    "image=cv2.imread(\"split.jpg\")#读取要处理的图片\n",
    "cv2.imshow(\"src\",image)\n",
    "cv2.waitKey(0)\n",
    "B,G,R = cv2.split(image)#分离出图片的B，R，G颜色通道\n",
    "\n",
    "zeros = np.zeros(image.shape[:2],dtype=\"uint8\")#创建与image相同大小的零矩阵\n",
    "cv2.imshow(\"BLUE\",cv2.merge([B,zeros,zeros]))#显示 （B，0，0）图像\n",
    "cv2.imshow(\"GREEN\",cv2.merge([zeros,G,zeros]))#显示（0，G，0）图像\n",
    "cv2.imshow(\"RED\",cv2.merge([zeros,zeros,R]))#显示（0，0，R）图像\n",
    "cv2.waitKey(0)\n",
    "cv2.destroyAllWindows()"
   ]
  },
  {
   "cell_type": "code",
   "execution_count": null,
   "metadata": {
    "pycharm": {
     "is_executing": true
    }
   },
   "outputs": [],
   "source": [
    "print(image.shape[:2])"
   ]
  },
  {
   "cell_type": "markdown",
   "metadata": {},
   "source": [
    "# 代码6：图像通道合并\n",
    "下面的程序将使用R、G、B三通道合并 并显示。"
   ]
  },
  {
   "cell_type": "code",
   "execution_count": null,
   "metadata": {
    "collapsed": true,
    "pycharm": {
     "is_executing": true
    }
   },
   "outputs": [],
   "source": [
    "#加载opencv\n",
    "import cv2\n",
    "src=cv2.imread('split.jpg')\n",
    "cv2.imshow('before',src)\n",
    "#调用通道分离\n",
    "b,g,r=cv2.split(src)\n",
    "#将Blue通道数值修改为0\n",
    "g[:] = 0\n",
    "#合并修改后的通道\n",
    "img_merge=cv2.merge([b,g,r])\n",
    "cv2.imshow('merge',img_merge)\n",
    "cv2.waitKey(0)\n",
    "cv2.destroyAllWindows()"
   ]
  },
  {
   "cell_type": "markdown",
   "metadata": {},
   "source": [
    "# 代码5：通道分离与合并小结"
   ]
  },
  {
   "cell_type": "code",
   "execution_count": null,
   "metadata": {
    "collapsed": true,
    "pycharm": {
     "is_executing": true
    }
   },
   "outputs": [],
   "source": [
    "import cv2 as cv\n",
    "import numpy as np\n",
    "src=cv.imread('split.jpg')\n",
    "#cv.namedWindow('before',cv.WINDOW_NORMAL)\n",
    "cv.imshow('before',src)\n",
    "cv.waitKey(0)\n",
    "#通道分离\n",
    "b,g,r=cv.split(src)\n",
    "cv.imshow('blue',b)\n",
    "cv.imshow('green',g)\n",
    "cv.imshow('red',r)\n",
    "cv.waitKey(0)\n",
    "#通道合并\n",
    "src=cv.merge([b,g,r])\n",
    "cv.imshow('merge',src)\n",
    "cv.waitKey(0)\n",
    "# 修改某个通道\n",
    "src[:,:,2]=100\n",
    "cv.imshow('single',src)\n",
    "cv.waitKey(0)\n",
    "cv.destroyAllWindows()"
   ]
  },
  {
   "cell_type": "markdown",
   "metadata": {},
   "source": [
    "# 代码7：RGB与BGR转化"
   ]
  },
  {
   "cell_type": "markdown",
   "metadata": {},
   "source": [
    "下面的程序将使用opencv加载一个彩色图，然后将其转换为BGR数据，并使用Matplotlib显示出来。"
   ]
  },
  {
   "cell_type": "code",
   "execution_count": null,
   "metadata": {
    "pycharm": {
     "is_executing": true
    }
   },
   "outputs": [],
   "source": [
    "import cv2 \n",
    "import matplotlib.pyplot as plt \n",
    "img = cv2.imread(\"test2.png\", cv2.IMREAD_COLOR)\n",
    "cv2.imshow(\"Opencv_win\", img)\n",
    "# 用opencv自带的方法转\n",
    "img_cv_method = cv2.cvtColor(img, cv2.COLOR_BGR2RGB)\n",
    "# 用numpy转，img[:,:,::-1]列左右翻转\n",
    "img_numpy_method = img[:,:,::-1] # 本来是BGR 现在逆序，变成RGB\n",
    "# 用matplot画图\n",
    "plt.subplot(1,3,1)\n",
    "plt.imshow(img_cv_method)\n",
    "plt.subplot(1,3,2)\n",
    "plt.imshow(img_numpy_method)\n",
    "plt.subplot(1,3,3)\n",
    "plt.imshow(img)\n",
    "plt.savefig(\"./plt.png\")\n",
    "plt.show()\n",
    "#保存图片\n",
    "cv2.imwrite(\"opencv.png\", img)\n",
    "cv2.waitKey(0)\n",
    "cv2.destroyAllWindows()"
   ]
  },
  {
   "cell_type": "markdown",
   "metadata": {},
   "source": [
    "# 代码8：RGB与HSV转化"
   ]
  },
  {
   "cell_type": "code",
   "execution_count": null,
   "metadata": {
    "collapsed": true,
    "pycharm": {
     "is_executing": true
    }
   },
   "outputs": [],
   "source": [
    "import cv2\n",
    "#色彩空间转换函数\n",
    "def color_space_demo(image):\n",
    "    gray=cv2.cvtColor(image,cv2.COLOR_BGR2GRAY)\n",
    "    cv2.imshow('gray',gray)\n",
    "    hsv=cv2.cvtColor(image,cv2.COLOR_BGR2HSV)\n",
    "    #print(hsv)\n",
    "    cv2.imshow('hsv',hsv)\n",
    "#读入一张彩色图\n",
    "src=cv2.imread('girl.jpg')\n",
    "cv2.imshow('before',src)\n",
    "#调用color_space_demo函数进行色彩空间转化\n",
    "color_space_demo(src)\n",
    "cv2.waitKey(0)\n",
    "cv2.destroyAllWindows()"
   ]
  },
  {
   "cell_type": "markdown",
   "metadata": {},
   "source": [
    "代码9 直方图绘制 方法1"
   ]
  },
  {
   "cell_type": "code",
   "execution_count": null,
   "metadata": {
    "pycharm": {
     "is_executing": true
    }
   },
   "outputs": [],
   "source": [
    "#加载第三方库\n",
    "from matplotlib import pyplot as plt\n",
    "import cv2\n",
    "\n",
    "girl = cv2.imread(\"girl.jpg\")\n",
    "cv2.imshow(\"girl\", girl)\n",
    "# girl.ravel()函数是将图像的三位数组降到一维上去，\n",
    "#256为bins的数目,[0, 256]为范围\n",
    "plt.hist(girl.ravel(), 256, [0, 256])\n",
    "plt.show()\n",
    "cv2.waitKey(0)\n",
    "cv2.destroyAllWindows()"
   ]
  },
  {
   "cell_type": "markdown",
   "metadata": {},
   "source": [
    "代码9 直方图绘制 方法2"
   ]
  },
  {
   "cell_type": "code",
   "execution_count": null,
   "metadata": {
    "pycharm": {
     "is_executing": true
    }
   },
   "outputs": [],
   "source": [
    "from matplotlib import pyplot as plt\n",
    "import cv2\n",
    "import numpy as np\n",
    "img = cv2.imread('girl.jpg')\n",
    "img_gray = cv2.cvtColor(img, cv2.COLOR_BGR2GRAY)\n",
    "\n",
    "plt.imshow(img_gray, cmap=plt.cm.gray)\n",
    "hist = cv2.calcHist([img], [0], None, [256], [0, 256])\n",
    "\n",
    "\n",
    "plt.figure()\n",
    "plt.title(\"Grayscale Histogram\")\n",
    "plt.xlabel(\"Bins\")\n",
    "plt.ylabel(\"# of Pixels\")\n",
    "plt.plot(hist)\n",
    "plt.xlim([0, 256])\n",
    "plt.show()"
   ]
  },
  {
   "cell_type": "markdown",
   "metadata": {},
   "source": [
    "代码10 三通道直方图绘制"
   ]
  },
  {
   "cell_type": "code",
   "execution_count": null,
   "metadata": {
    "pycharm": {
     "is_executing": true
    }
   },
   "outputs": [],
   "source": [
    "from matplotlib import pyplot as plt\n",
    "import cv2\n",
    "girl = cv2.imread(\"girl.jpg\")\n",
    "cv2.imshow(\"girl\", girl)\n",
    "color = (\"b\", \"g\", \"r\")\n",
    "#使用for循环遍历color列表，enumerate枚举返回索引和值\n",
    "for i, color in enumerate(color):\n",
    "    hist = cv2.calcHist([girl], [i], None, [256], [0, 256])\n",
    "    plt.title(\"girl\")\n",
    "    plt.xlabel(\"Bins\")\n",
    "    plt.ylabel(\"num of perlex\")\n",
    "    plt.plot(hist, color = color)\n",
    "    plt.xlim([0, 260])\n",
    "plt.show()\n",
    "cv2.waitKey(0)\n",
    "cv2.destroyAllWindows()"
   ]
  }
 ],
 "metadata": {
  "kernelspec": {
   "display_name": "Python 3",
   "language": "python",
   "name": "python3"
  },
  "language_info": {
   "codemirror_mode": {
    "name": "ipython",
    "version": 3
   },
   "file_extension": ".py",
   "mimetype": "text/x-python",
   "name": "python",
   "nbconvert_exporter": "python",
   "pygments_lexer": "ipython3",
   "version": "3.7.0"
  }
 },
 "nbformat": 4,
 "nbformat_minor": 2
}
